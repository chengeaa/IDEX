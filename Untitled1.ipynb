{
 "cells": [
  {
   "cell_type": "code",
   "execution_count": 1,
   "metadata": {
    "collapsed": true
   },
   "outputs": [],
   "source": [
    "from datascience import *\n",
    "import numpy as np\n",
    "import pandas as pd"
   ]
  },
  {
   "cell_type": "code",
   "execution_count": 4,
   "metadata": {
    "collapsed": false
   },
   "outputs": [
    {
     "data": {
      "text/html": [
       "<table border=\"1\" class=\"dataframe\">\n",
       "    <thead>\n",
       "        <tr>\n",
       "            <th>Department Name</th> <th>Custody Type</th> <th>Custody Type Facility</th> <th>First Name</th> <th>Middle Name</th> <th>Last Name</th> <th>Ethnicity</th> <th>Sex</th> <th>Age</th> <th>Death Date</th> <th>Manner Death</th> <th>Charges Status</th> <th>Summary</th>\n",
       "        </tr>\n",
       "    </thead>\n",
       "    <tbody>\n",
       "        <tr>\n",
       "            <td>Texas Department Of Criminal Justice       </td> <td>Penitentiary                </td> <td>Young                </td> <td>Dean      </td> <td>L            </td> <td>Glassbrook</td> <td>Anglo           </td> <td>Male  </td> <td>79  </td> <td>5/14/08 0:00  </td> <td>Natural Causes/Illness            </td> <td>Convicted                 </td> <td>nan                                                         </td>\n",
       "        </tr>\n",
       "    </tbody>\n",
       "        <tr>\n",
       "            <td>Texas Department Of Criminal Justice       </td> <td>Penitentiary                </td> <td>Michael              </td> <td>Amador    </td> <td>nan          </td> <td>Trevino   </td> <td>Hispanic        </td> <td>Male  </td> <td>0   </td> <td>5/30/09 0:00  </td> <td>Natural Causes/Illness            </td> <td>Convicted                 </td> <td>nan                                                         </td>\n",
       "        </tr>\n",
       "    </tbody>\n",
       "        <tr>\n",
       "            <td>University of North Texas Police Department</td> <td>Police Custody (pre-booking)</td> <td>nan                  </td> <td>Ryan      </td> <td>Gillette     </td> <td>McMillian </td> <td>Anglo           </td> <td>Male  </td> <td>21  </td> <td>12/13/15 1:33 </td> <td>Other                             </td> <td>Not filed at time of death</td> <td>Police officer was responding to a call about an individ ...</td>\n",
       "        </tr>\n",
       "    </tbody>\n",
       "        <tr>\n",
       "            <td>Texas Department Of Criminal Justice       </td> <td>Penitentiary                </td> <td>Allred               </td> <td>Rodney    </td> <td>nan          </td> <td>Wright    </td> <td>Anglo           </td> <td>Male  </td> <td>0   </td> <td>9/23/11 19:27 </td> <td>Suicide                           </td> <td>Convicted                 </td> <td>Offender Rodney Wright was discovered hanging in his ass ...</td>\n",
       "        </tr>\n",
       "    </tbody>\n",
       "        <tr>\n",
       "            <td>Texas Department Of Criminal Justice       </td> <td>Penitentiary                </td> <td>Michael              </td> <td>David     </td> <td>S            </td> <td>Olgin     </td> <td>Hispanic        </td> <td>Male  </td> <td>43  </td> <td>1/22/11 0:00  </td> <td>Natural Causes/Illness            </td> <td>Convicted                 </td> <td>nan                                                         </td>\n",
       "        </tr>\n",
       "    </tbody>\n",
       "        <tr>\n",
       "            <td>Trinity County Constable Precinct 1        </td> <td>Police Custody (pre-booking)</td> <td>nan                  </td> <td>Scott     </td> <td>Allen        </td> <td>Williford </td> <td>Anglo           </td> <td>Male  </td> <td>12  </td> <td>8/24/10 20:48 </td> <td>Other                             </td> <td>Not filed at time of death</td> <td>On 08/24/10, the Trinity County Sheriffs Office communic ...</td>\n",
       "        </tr>\n",
       "    </tbody>\n",
       "        <tr>\n",
       "            <td>Texas Department Of Public Safety          </td> <td>Police Custody (pre-booking)</td> <td>nan                  </td> <td>Leesa     </td> <td>Renay        </td> <td>Ramirez   </td> <td>Hispanic        </td> <td>Female</td> <td>12  </td> <td>1/1/13 15:45  </td> <td>Natural Causes/Illness            </td> <td>Not filed at time of death</td> <td>On 1/1/13 at about 3:45 p.m., Trooper Francisco Rios obs ...</td>\n",
       "        </tr>\n",
       "    </tbody>\n",
       "        <tr>\n",
       "            <td>Texas Youth Commission                     </td> <td>Penitentiary                </td> <td>nan                  </td> <td>Altrice   </td> <td>Louis        </td> <td>Oliver    </td> <td>African-American</td> <td>Male  </td> <td>14  </td> <td>3/16/09 2:30  </td> <td>Suicide                           </td> <td>Convicted                 </td> <td>Copy of complete report(including Autopsy) was given to  ...</td>\n",
       "        </tr>\n",
       "    </tbody>\n",
       "        <tr>\n",
       "            <td>Texas Department Of Public Safety          </td> <td>Police Custody (pre-booking)</td> <td>nan                  </td> <td>Ezequiel  </td> <td>nan          </td> <td>Serna     </td> <td>Hispanic        </td> <td>Male  </td> <td>14  </td> <td>1/16/12 22:00 </td> <td>Accidental injury to self         </td> <td>Not filed at time of death</td> <td>On the 16th of January 2012, Trooper Manuel Cantu III wa ...</td>\n",
       "        </tr>\n",
       "    </tbody>\n",
       "        <tr>\n",
       "            <td>Granbury Regional Juvenile Justice Center  </td> <td>Penitentiary                </td> <td>nan                  </td> <td>Jordan    </td> <td>Charles David</td> <td>Adams     </td> <td>Anglo           </td> <td>Male  </td> <td>14  </td> <td>10/16/11 12:00</td> <td>Accidental injury caused by others</td> <td>Filed                     </td> <td>Deceased tied his bedsheet around his neck and had the r ...</td>\n",
       "        </tr>\n",
       "    </tbody>\n",
       "</table>\n",
       "<p>... (6903 rows omitted)</p"
      ],
      "text/plain": [
       "Department Name                             | Custody Type                 | Custody Type Facility | First Name | Middle Name   | Last Name  | Ethnicity        | Sex    | Age  | Death Date     | Manner Death                       | Charges Status             | Summary\n",
       "Texas Department Of Criminal Justice        | Penitentiary                 | Young                 | Dean       | L             | Glassbrook | Anglo            | Male   | 79   | 5/14/08 0:00   | Natural Causes/Illness             | Convicted                  | nan\n",
       "Texas Department Of Criminal Justice        | Penitentiary                 | Michael               | Amador     | nan           | Trevino    | Hispanic         | Male   | 0    | 5/30/09 0:00   | Natural Causes/Illness             | Convicted                  | nan\n",
       "University of North Texas Police Department | Police Custody (pre-booking) | nan                   | Ryan       | Gillette      | McMillian  | Anglo            | Male   | 21   | 12/13/15 1:33  | Other                              | Not filed at time of death | Police officer was responding to a call about an individ ...\n",
       "Texas Department Of Criminal Justice        | Penitentiary                 | Allred                | Rodney     | nan           | Wright     | Anglo            | Male   | 0    | 9/23/11 19:27  | Suicide                            | Convicted                  | Offender Rodney Wright was discovered hanging in his ass ...\n",
       "Texas Department Of Criminal Justice        | Penitentiary                 | Michael               | David      | S             | Olgin      | Hispanic         | Male   | 43   | 1/22/11 0:00   | Natural Causes/Illness             | Convicted                  | nan\n",
       "Trinity County Constable Precinct 1         | Police Custody (pre-booking) | nan                   | Scott      | Allen         | Williford  | Anglo            | Male   | 12   | 8/24/10 20:48  | Other                              | Not filed at time of death | On 08/24/10, the Trinity County Sheriffs Office communic ...\n",
       "Texas Department Of Public Safety           | Police Custody (pre-booking) | nan                   | Leesa      | Renay         | Ramirez    | Hispanic         | Female | 12   | 1/1/13 15:45   | Natural Causes/Illness             | Not filed at time of death | On 1/1/13 at about 3:45 p.m., Trooper Francisco Rios obs ...\n",
       "Texas Youth Commission                      | Penitentiary                 | nan                   | Altrice    | Louis         | Oliver     | African-American | Male   | 14   | 3/16/09 2:30   | Suicide                            | Convicted                  | Copy of complete report(including Autopsy) was given to  ...\n",
       "Texas Department Of Public Safety           | Police Custody (pre-booking) | nan                   | Ezequiel   | nan           | Serna      | Hispanic         | Male   | 14   | 1/16/12 22:00  | Accidental injury to self          | Not filed at time of death | On the 16th of January 2012, Trooper Manuel Cantu III wa ...\n",
       "Granbury Regional Juvenile Justice Center   | Penitentiary                 | nan                   | Jordan     | Charles David | Adams      | Anglo            | Male   | 14   | 10/16/11 12:00 | Accidental injury caused by others | Filed                      | Deceased tied his bedsheet around his neck and had the r ...\n",
       "... (6903 rows omitted)"
      ]
     },
     "execution_count": 4,
     "metadata": {},
     "output_type": "execute_result"
    }
   ],
   "source": [
    "Texas_data = Table.read_table('custodial-death.csv')\n",
    "Texas_data"
   ]
  },
  {
   "cell_type": "code",
   "execution_count": 6,
   "metadata": {
    "collapsed": false
   },
   "outputs": [
    {
     "data": {
      "text/html": [
       "<table border=\"1\" class=\"dataframe\">\n",
       "    <thead>\n",
       "        <tr>\n",
       "            <th>county</th> <th>reporting_agency</th> <th>agency_full_name</th> <th>ncic_number_county</th> <th>ncic_number_city</th> <th>ncic_number_agency</th> <th>date_of_birth_mm</th> <th>date_of_birth_dd</th> <th>date_of_birth_yyyy</th> <th>race</th> <th>gender</th> <th>custody_status</th> <th>custody_offense</th> <th>date_of_death_yyyy</th> <th>date_of_death_mm</th> <th>date_of_death_dd</th> <th>custodial_responsibility_at_time_of_death</th> <th>location_where_cause_of_death_occurred</th> <th>facility_death_occured</th> <th>manner_of_death</th> <th>means_of_death</th>\n",
       "        </tr>\n",
       "    </thead>\n",
       "    <tbody>\n",
       "        <tr>\n",
       "            <td>Los Angeles</td> <td>Police          </td> <td>Los Angeles Police Department          </td> <td>19                </td> <td>42              </td> <td>00                </td> <td>0               </td> <td>0               </td> <td>1947              </td> <td>White   </td> <td>Male  </td> <td>In Transit             </td> <td>342            </td> <td>1980              </td> <td>1               </td> <td>7               </td> <td>None                                     </td> <td>Not Applicable                        </td> <td>Local Hospital        </td> <td>Accidental                     </td> <td>Not Applicable          </td>\n",
       "        </tr>\n",
       "    </tbody>\n",
       "        <tr>\n",
       "            <td>Los Angeles</td> <td>Police          </td> <td>Los Angeles Police Department          </td> <td>19                </td> <td>42              </td> <td>00                </td> <td>0               </td> <td>0               </td> <td>1914              </td> <td>Hispanic</td> <td>Male  </td> <td>Awaiting Booking       </td> <td>46             </td> <td>1980              </td> <td>1               </td> <td>8               </td> <td>None                                     </td> <td>Not Applicable                        </td> <td>County jail           </td> <td>Natural                        </td> <td>Not Applicable          </td>\n",
       "        </tr>\n",
       "    </tbody>\n",
       "        <tr>\n",
       "            <td>Los Angeles</td> <td>Sheriff         </td> <td>Los Angeles County Sheriff's Department</td> <td>19                </td> <td>00              </td> <td>00                </td> <td>1               </td> <td>27              </td> <td>1956              </td> <td>Black   </td> <td>Male  </td> <td>Booked - Awaiting Trial</td> <td>880            </td> <td>1980              </td> <td>1               </td> <td>11              </td> <td>County Jail                              </td> <td>Common                                </td> <td>Local Hospital        </td> <td>Homicide Willful (Other Inmate)</td> <td>Knife,Cutting Instrument</td>\n",
       "        </tr>\n",
       "    </tbody>\n",
       "        <tr>\n",
       "            <td>Los Angeles</td> <td>Sheriff         </td> <td>Los Angeles County Sheriff's Department</td> <td>19                </td> <td>00              </td> <td>00                </td> <td>7               </td> <td>28              </td> <td>1943              </td> <td>Black   </td> <td>Male  </td> <td>Booked - Awaiting Trial</td> <td>320            </td> <td>1980              </td> <td>1               </td> <td>14              </td> <td>Local Hospital                           </td> <td>Medical Treatment                     </td> <td>Local Hospital        </td> <td>Natural                        </td> <td>Not Applicable          </td>\n",
       "        </tr>\n",
       "    </tbody>\n",
       "        <tr>\n",
       "            <td>Fresno     </td> <td>Sheriff         </td> <td>Fresno County Sheriff's Department     </td> <td>10                </td> <td>00              </td> <td>00                </td> <td>3               </td> <td>12              </td> <td>1943              </td> <td>Hispanic</td> <td>Male  </td> <td>Unknown                </td> <td>46             </td> <td>1980              </td> <td>1               </td> <td>20              </td> <td>County Jail                              </td> <td>Living                                </td> <td>Local Hospital        </td> <td>Suicide                        </td> <td>Hanging,Strangulation   </td>\n",
       "        </tr>\n",
       "    </tbody>\n",
       "        <tr>\n",
       "            <td>Alameda    </td> <td>Sheriff         </td> <td>Alameda County Sheriff's Department    </td> <td>1                 </td> <td>00              </td> <td>00                </td> <td>8               </td> <td>28              </td> <td>1951              </td> <td>White   </td> <td>Male  </td> <td>Booked - Awaiting Trial</td> <td>500            </td> <td>1980              </td> <td>1               </td> <td>20              </td> <td>County Jail                              </td> <td>Living                                </td> <td>County jail           </td> <td>Suicide                        </td> <td>Hanging,Strangulation   </td>\n",
       "        </tr>\n",
       "    </tbody>\n",
       "        <tr>\n",
       "            <td>Alameda    </td> <td>Sheriff         </td> <td>Alameda County Sheriff's Department    </td> <td>1                 </td> <td>00              </td> <td>00                </td> <td>3               </td> <td>3               </td> <td>1945              </td> <td>Black   </td> <td>Male  </td> <td>Booked - Awaiting Trial</td> <td>370            </td> <td>1980              </td> <td>1               </td> <td>21              </td> <td>County Jail                              </td> <td>Living                                </td> <td>Local Hospital        </td> <td>Suicide                        </td> <td>Hanging,Strangulation   </td>\n",
       "        </tr>\n",
       "    </tbody>\n",
       "        <tr>\n",
       "            <td>Santa Clara</td> <td>Sheriff         </td> <td>Santa Clara County Sheriff's Department</td> <td>43                </td> <td>00              </td> <td>00                </td> <td>10              </td> <td>18              </td> <td>1931              </td> <td>Hispanic</td> <td>Male  </td> <td>Booked - Awaiting Trial</td> <td>100            </td> <td>1980              </td> <td>1               </td> <td>23              </td> <td>County Jail                              </td> <td>Living                                </td> <td>Local Hospital        </td> <td>Suicide                        </td> <td>Hanging,Strangulation   </td>\n",
       "        </tr>\n",
       "    </tbody>\n",
       "        <tr>\n",
       "            <td>Marin      </td> <td>State           </td> <td>San Quentin State Prison               </td> <td>21                </td> <td>01              </td> <td>5C                </td> <td>7               </td> <td>24              </td> <td>1935              </td> <td>Hispanic</td> <td>Male  </td> <td>Sentenced              </td> <td>110            </td> <td>1980              </td> <td>1               </td> <td>23              </td> <td>CDC/CRC                                  </td> <td>Living                                </td> <td>CDC/CRC               </td> <td>Suicide                        </td> <td>Hanging,Strangulation   </td>\n",
       "        </tr>\n",
       "    </tbody>\n",
       "        <tr>\n",
       "            <td>Los Angeles</td> <td>Sheriff         </td> <td>Los Angeles County Sheriff's Department</td> <td>19                </td> <td>00              </td> <td>00                </td> <td>0               </td> <td>0               </td> <td>1921              </td> <td>White   </td> <td>Male  </td> <td>Booked - Awaiting Trial</td> <td>400            </td> <td>1980              </td> <td>1               </td> <td>23              </td> <td>County Jail                              </td> <td>Medical Treatment                     </td> <td>County jail           </td> <td>Natural                        </td> <td>Not Applicable          </td>\n",
       "        </tr>\n",
       "    </tbody>\n",
       "</table>\n",
       "<p>... (16091 rows omitted)</p"
      ],
      "text/plain": [
       "county      | reporting_agency | agency_full_name                        | ncic_number_county | ncic_number_city | ncic_number_agency | date_of_birth_mm | date_of_birth_dd | date_of_birth_yyyy | race     | gender | custody_status          | custody_offense | date_of_death_yyyy | date_of_death_mm | date_of_death_dd | custodial_responsibility_at_time_of_death | location_where_cause_of_death_occurred | facility_death_occured | manner_of_death                 | means_of_death\n",
       "Los Angeles | Police           | Los Angeles Police Department           | 19                 | 42               | 00                 | 0                | 0                | 1947               | White    | Male   | In Transit              | 342             | 1980               | 1                | 7                | None                                      | Not Applicable                         | Local Hospital         | Accidental                      | Not Applicable\n",
       "Los Angeles | Police           | Los Angeles Police Department           | 19                 | 42               | 00                 | 0                | 0                | 1914               | Hispanic | Male   | Awaiting Booking        | 46              | 1980               | 1                | 8                | None                                      | Not Applicable                         | County jail            | Natural                         | Not Applicable\n",
       "Los Angeles | Sheriff          | Los Angeles County Sheriff's Department | 19                 | 00               | 00                 | 1                | 27               | 1956               | Black    | Male   | Booked - Awaiting Trial | 880             | 1980               | 1                | 11               | County Jail                               | Common                                 | Local Hospital         | Homicide Willful (Other Inmate) | Knife,Cutting Instrument\n",
       "Los Angeles | Sheriff          | Los Angeles County Sheriff's Department | 19                 | 00               | 00                 | 7                | 28               | 1943               | Black    | Male   | Booked - Awaiting Trial | 320             | 1980               | 1                | 14               | Local Hospital                            | Medical Treatment                      | Local Hospital         | Natural                         | Not Applicable\n",
       "Fresno      | Sheriff          | Fresno County Sheriff's Department      | 10                 | 00               | 00                 | 3                | 12               | 1943               | Hispanic | Male   | Unknown                 | 46              | 1980               | 1                | 20               | County Jail                               | Living                                 | Local Hospital         | Suicide                         | Hanging,Strangulation\n",
       "Alameda     | Sheriff          | Alameda County Sheriff's Department     | 1                  | 00               | 00                 | 8                | 28               | 1951               | White    | Male   | Booked - Awaiting Trial | 500             | 1980               | 1                | 20               | County Jail                               | Living                                 | County jail            | Suicide                         | Hanging,Strangulation\n",
       "Alameda     | Sheriff          | Alameda County Sheriff's Department     | 1                  | 00               | 00                 | 3                | 3                | 1945               | Black    | Male   | Booked - Awaiting Trial | 370             | 1980               | 1                | 21               | County Jail                               | Living                                 | Local Hospital         | Suicide                         | Hanging,Strangulation\n",
       "Santa Clara | Sheriff          | Santa Clara County Sheriff's Department | 43                 | 00               | 00                 | 10               | 18               | 1931               | Hispanic | Male   | Booked - Awaiting Trial | 100             | 1980               | 1                | 23               | County Jail                               | Living                                 | Local Hospital         | Suicide                         | Hanging,Strangulation\n",
       "Marin       | State            | San Quentin State Prison                | 21                 | 01               | 5C                 | 7                | 24               | 1935               | Hispanic | Male   | Sentenced               | 110             | 1980               | 1                | 23               | CDC/CRC                                   | Living                                 | CDC/CRC                | Suicide                         | Hanging,Strangulation\n",
       "Los Angeles | Sheriff          | Los Angeles County Sheriff's Department | 19                 | 00               | 00                 | 0                | 0                | 1921               | White    | Male   | Booked - Awaiting Trial | 400             | 1980               | 1                | 23               | County Jail                               | Medical Treatment                      | County jail            | Natural                         | Not Applicable\n",
       "... (16091 rows omitted)"
      ]
     },
     "execution_count": 6,
     "metadata": {},
     "output_type": "execute_result"
    }
   ],
   "source": [
    "CA_data = Table.read_table('ca_doj_deaths_in_custody_raw_1980-2015_05-14-2016.csv')\n",
    "CA_data"
   ]
  },
  {
   "cell_type": "code",
   "execution_count": 15,
   "metadata": {
    "collapsed": false
   },
   "outputs": [
    {
     "data": {
      "text/plain": [
       "array(['Male', 'Male', 'Male', ..., 'Male', 'Male', 'Male'], \n",
       "      dtype='<U6')"
      ]
     },
     "execution_count": 15,
     "metadata": {},
     "output_type": "execute_result"
    }
   ],
   "source": [
    "CA_data['gender']"
   ]
  },
  {
   "cell_type": "code",
   "execution_count": 17,
   "metadata": {
    "collapsed": false
   },
   "outputs": [
    {
     "data": {
      "text/plain": [
       "array(['Male', 'Male', 'Male', ..., 'Male', 'Male', 'Male'], \n",
       "      dtype='<U6')"
      ]
     },
     "execution_count": 17,
     "metadata": {},
     "output_type": "execute_result"
    }
   ],
   "source": [
    "Texas_data['Sex']"
   ]
  },
  {
   "cell_type": "code",
   "execution_count": null,
   "metadata": {
    "collapsed": true
   },
   "outputs": [],
   "source": []
  }
 ],
 "metadata": {
  "kernelspec": {
   "display_name": "Python [default]",
   "language": "python",
   "name": "python3"
  },
  "language_info": {
   "codemirror_mode": {
    "name": "ipython",
    "version": 3
   },
   "file_extension": ".py",
   "mimetype": "text/x-python",
   "name": "python",
   "nbconvert_exporter": "python",
   "pygments_lexer": "ipython3",
   "version": "3.5.2"
  }
 },
 "nbformat": 4,
 "nbformat_minor": 1
}
